{
 "cells": [
  {
   "cell_type": "markdown",
   "metadata": {},
   "source": [
    "# 👨‍💻 Usage examples\n",
    "## Getting Started: Installing Elevatr\n",
    "First things first: install the latest version of `elevatr` using the command below."
   ]
  },
  {
   "cell_type": "code",
   "execution_count": null,
   "metadata": {},
   "outputs": [],
   "source": [
    "# Uncomment the following line to install the required package\n",
    "# %pip install elevatr"
   ]
  },
  {
   "cell_type": "markdown",
   "metadata": {},
   "source": [
    "---\n",
    "# 1. Downloading Raster Elevation Data ⬇️\n",
    "Let’s dive into a simple example of how to download raster elevation data with elevatr. Here’s how it works:"
   ]
  },
  {
   "cell_type": "code",
   "execution_count": null,
   "metadata": {},
   "outputs": [],
   "source": [
    "import sys\n",
    "import os\n",
    "sys.path.append(os.path.abspath(os.path.join('..')))\n",
    "import elevatr as elv\n",
    "\n",
    "# Define the bounding box of the area of interest (min_lon, min_lat, max_lon, max_lat)\n",
    "bbx = (-5.14, 41.33, 9.56, 51.09)\n",
    "\n",
    "# Set the level of precision (between 0 and 14)\n",
    "zoom = 6\n",
    "\n",
    "# Access the elevation data\n",
    "raster = elv.get_elev_raster(locations=bbx, zoom=zoom)"
   ]
  },
  {
   "cell_type": "markdown",
   "metadata": {},
   "source": [
    "Need to manage cache efficiently? Use these handy parameters:\n",
    "* cache_folder : Specify where to store cache files.\n",
    "* use_cache : Decide if existing cache should be reused.\n",
    "* delete_cache : Clean up cache after use.\n",
    "For more details, check out the [full documentation](https://elevatr.readthedocs.io/en/latest/documentation.html)."
   ]
  },
  {
   "cell_type": "markdown",
   "metadata": {},
   "source": [
    "---\n",
    "# 2. Use the Raster 🗺️\n",
    "The `Raster` class in elevatr makes working with raster data intuitive and enjoyable. Here’s what you can do:\n",
    "### Visualizing the Raster Data\n",
    "Want to see your elevation data? No problem!"
   ]
  },
  {
   "cell_type": "code",
   "execution_count": null,
   "metadata": {},
   "outputs": [],
   "source": [
    "raster.show(cmap='terrain', clip_zero=True)"
   ]
  },
  {
   "cell_type": "markdown",
   "metadata": {},
   "source": [
    "### Converting the Raster to a NumPy Array\n",
    "Need the data in array format for further processing? It’s just as easy:"
   ]
  },
  {
   "cell_type": "code",
   "execution_count": null,
   "metadata": {},
   "outputs": [],
   "source": [
    "raster_array = raster.to_numpy()"
   ]
  },
  {
   "cell_type": "markdown",
   "metadata": {},
   "source": [
    "### Saving the Raster as a GeoTIFF File\n",
    "Want to keep your elevation data for later? Save it as a GeoTIFF file:"
   ]
  },
  {
   "cell_type": "code",
   "execution_count": null,
   "metadata": {},
   "outputs": [],
   "source": [
    "raster.to_tif('elevation.tif')"
   ]
  },
  {
   "cell_type": "markdown",
   "metadata": {},
   "source": [
    "---\n",
    "That’s it! You’re ready to start exploring elevation data with elevatr. Whether you’re visualizing, analyzing, or saving, this library has got you covered. Happy mapping! 🌍⭐"
   ]
  }
 ],
 "metadata": {
  "kernelspec": {
   "display_name": "env",
   "language": "python",
   "name": "python3"
  },
  "language_info": {
   "codemirror_mode": {
    "name": "ipython",
    "version": 3
   },
   "file_extension": ".py",
   "mimetype": "text/x-python",
   "name": "python",
   "nbconvert_exporter": "python",
   "pygments_lexer": "ipython3",
   "version": "3.11.11"
  }
 },
 "nbformat": 4,
 "nbformat_minor": 2
}
