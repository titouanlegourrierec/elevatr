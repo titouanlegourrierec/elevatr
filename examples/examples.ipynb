{
 "cells": [
  {
   "cell_type": "markdown",
   "metadata": {},
   "source": [
    "# 👨‍💻 Usage examples\n",
    "## Getting Started: Installing Elevatr\n",
    "First things first: install the latest version of `elevatr` using the command below."
   ]
  },
  {
   "cell_type": "code",
   "execution_count": null,
   "metadata": {},
   "outputs": [],
   "source": [
    "# Uncomment the following line to install the required package\n",
    "# %pip install elevatr"
   ]
  },
  {
   "cell_type": "markdown",
   "metadata": {},
   "source": [
    "---\n",
    "# 1. Downloading Raster Elevation Data ⬇️\n",
    "Let’s dive into a simple example of how to download raster elevation data with elevatr. Here’s how it works:"
   ]
  },
  {
   "cell_type": "code",
   "execution_count": null,
   "metadata": {},
   "outputs": [],
   "source": [
    "import elevatr as elv\n",
    "\n",
    "# Define the bounding box of the area of interest (min_lon, min_lat, max_lon, max_lat)\n",
    "bbx = (-5.14, 41.33, 9.56, 51.09)\n",
    "\n",
    "# Set the level of precision (between 0 and 14)\n",
    "zoom = 6\n",
    "\n",
    "# Access the elevation data\n",
    "# You can choose the crs of the output raster\n",
    "raster = elv.get_elev_raster(locations=bbx, zoom=zoom, crs=\"EPSG:3857\")"
   ]
  },
  {
   "cell_type": "markdown",
   "metadata": {},
   "source": [
    "Need to manage cache efficiently? Use these handy parameters:\n",
    "* cache_folder : Specify where to store cache files.\n",
    "* use_cache : Decide if existing cache should be reused.\n",
    "* delete_cache : Clean up cache after use.\n",
    "For more details, check out the [full documentation](https://elevatr.readthedocs.io/en/latest/documentation.html)."
   ]
  },
  {
   "cell_type": "markdown",
   "metadata": {},
   "source": [
    "---\n",
    "# 2. Use the Raster 🗺️\n",
    "The `Raster` class in elevatr makes working with raster data intuitive and enjoyable. Here’s what you can do:\n",
    "### Visualizing the Raster Data\n",
    "Want to see your elevation data? No problem!"
   ]
  },
  {
   "cell_type": "code",
   "execution_count": null,
   "metadata": {},
   "outputs": [],
   "source": [
    "raster.show(cmap='terrain', clip_zero=True)"
   ]
  },
  {
   "cell_type": "markdown",
   "metadata": {},
   "source": [
    "### Converting the Raster to a NumPy Array\n",
    "Need the data in array format for further processing? It’s just as easy:"
   ]
  },
  {
   "cell_type": "code",
   "execution_count": 3,
   "metadata": {},
   "outputs": [],
   "source": [
    "raster_array = raster.to_numpy()"
   ]
  },
  {
   "cell_type": "markdown",
   "metadata": {},
   "source": [
    "### Saving the Raster as a GeoTIFF File\n",
    "Want to keep your elevation data for later? Save it as a GeoTIFF file:"
   ]
  },
  {
   "cell_type": "code",
   "execution_count": 4,
   "metadata": {},
   "outputs": [],
   "source": [
    "raster.to_tif('elevation.tif')"
   ]
  },
  {
   "cell_type": "markdown",
   "metadata": {},
   "source": [
    "### Reprojecting the Raster to a Different Coordinate Reference System (CRS)\n",
    "Need to reproject your raster data? No problem! Here’s how you can do it:\n",
    "> 📝 **Note:**\n",
    "> This method updates the class attributes in place. The original raster data is overwritten."
   ]
  },
  {
   "cell_type": "code",
   "execution_count": 8,
   "metadata": {},
   "outputs": [],
   "source": [
    "raster.reproject('EPSG:4326')"
   ]
  },
  {
   "cell_type": "markdown",
   "metadata": {},
   "source": [
    "### Accessing the Raster Metadata\n",
    "Need to know more about your raster data? Here’s how you can access the metadata:\n",
    "* Accessing the raster resolution:"
   ]
  },
  {
   "cell_type": "code",
   "execution_count": null,
   "metadata": {},
   "outputs": [],
   "source": [
    "raster.resolution"
   ]
  },
  {
   "cell_type": "markdown",
   "metadata": {},
   "source": [
    "* Accessing the data source of the raster:"
   ]
  },
  {
   "cell_type": "code",
   "execution_count": null,
   "metadata": {},
   "outputs": [],
   "source": [
    "raster.imagery_sources"
   ]
  },
  {
   "cell_type": "markdown",
   "metadata": {},
   "source": [
    "---\n",
    "That’s it! You’re ready to start exploring elevation data with elevatr. Whether you’re visualizing, analyzing, or saving, this library has got you covered. Happy mapping! 🌍⭐"
   ]
  }
 ],
 "metadata": {
  "kernelspec": {
   "display_name": "env",
   "language": "python",
   "name": "python3"
  },
  "language_info": {
   "codemirror_mode": {
    "name": "ipython",
    "version": 3
   },
   "file_extension": ".py",
   "mimetype": "text/x-python",
   "name": "python",
   "nbconvert_exporter": "python",
   "pygments_lexer": "ipython3",
   "version": "3.11.11"
  }
 },
 "nbformat": 4,
 "nbformat_minor": 2
}
